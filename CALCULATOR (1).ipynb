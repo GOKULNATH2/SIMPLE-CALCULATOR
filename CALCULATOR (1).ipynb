{
 "cells": [
  {
   "cell_type": "code",
   "execution_count": 4,
   "id": "3eb2b1a7",
   "metadata": {},
   "outputs": [
    {
     "name": "stdout",
     "output_type": "stream",
     "text": [
      "Enter your equation with space inbetween : 6 + 7\n",
      "The sum of 6 and 7 is : 13\n"
     ]
    }
   ],
   "source": [
    "def add(a,b):\n",
    "    addition = a+b\n",
    "    return(f'The sum of {a} and {b} is : {addition}')\n",
    "\n",
    "def subtract(a,b):\n",
    "    subtraction = a-b\n",
    "    return(f'The subtraction of {a} and {b} is : {subtraction}')\n",
    "\n",
    "def multiply(a,b):\n",
    "    multiplication = a*b\n",
    "    print(f'The multiplication of {a} and {b} is : {multiplication}')\n",
    "\n",
    "def division(a,b):\n",
    "    division = a/b\n",
    "    print(f'The division of {a} and {b} is : {division}')\n",
    "\n",
    "num1,operator,num2 = map(str, input(\"Enter your equation with space inbetween : \").split())\n",
    "num1 = int(num1)\n",
    "num2 = int(num2)\n",
    "\n",
    "if operator == \"+\":\n",
    "    print(add(num1,num2))\n",
    "    \n",
    "elif operator == \"-\":\n",
    "    print(subtract(num1,num2))\n",
    "    \n",
    "elif operator == \"*\":\n",
    "    print(multiply(num1,num2))\n",
    "    \n",
    "elif operator == \"/\":\n",
    "    print(division(num1,num2))\n",
    "    \n",
    "else:\n",
    "    print(\"Please enter a valid equation like - 5+6 OR 5-6\")\n"
   ]
  },
  {
   "cell_type": "code",
   "execution_count": null,
   "id": "3051e237",
   "metadata": {},
   "outputs": [],
   "source": []
  }
 ],
 "metadata": {
  "kernelspec": {
   "display_name": "Python 3",
   "language": "python",
   "name": "python3"
  },
  "language_info": {
   "codemirror_mode": {
    "name": "ipython",
    "version": 3
   },
   "file_extension": ".py",
   "mimetype": "text/x-python",
   "name": "python",
   "nbconvert_exporter": "python",
   "pygments_lexer": "ipython3",
   "version": "3.8.8"
  }
 },
 "nbformat": 4,
 "nbformat_minor": 5
}
